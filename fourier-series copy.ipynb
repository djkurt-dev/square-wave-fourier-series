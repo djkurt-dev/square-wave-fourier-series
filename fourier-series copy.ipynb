{
 "cells": [
  {
   "attachments": {},
   "cell_type": "markdown",
   "metadata": {},
   "source": [
    "Import necessary packages."
   ]
  },
  {
   "cell_type": "code",
   "execution_count": 8,
   "metadata": {},
   "outputs": [],
   "source": [
    "import numpy as np\n",
    "import matplotlib.pyplot as plt\n",
    "import sympy as sp\n",
    "from sympy import pi\n",
    "\n",
    "t = sp.symbols('t')"
   ]
  },
  {
   "attachments": {},
   "cell_type": "markdown",
   "metadata": {},
   "source": [
    "Set the values for you  t -axis from  −π to 2π ."
   ]
  },
  {
   "cell_type": "code",
   "execution_count": 3,
   "metadata": {},
   "outputs": [],
   "source": [
    "t_vals = np.linspace(-np.pi, 2*np.pi, 500)"
   ]
  },
  {
   "attachments": {},
   "cell_type": "markdown",
   "metadata": {},
   "source": [
    "Define your function \n",
    "$f(t)=\n",
    "\\begin{cases}\n",
    "-1 &,\\quad -\\pi\\leq t\\leq 0\\\\1&,\\quad0\\leq t\\leq \\pi\n",
    "\\end{cases}$."
   ]
  },
  {
   "cell_type": "code",
   "execution_count": 4,
   "metadata": {},
   "outputs": [],
   "source": [
    "def f(t):\n",
    "    val = 0\n",
    "    if (t > -np.pi and t < 0) or (t > np.pi and t < 2*np.pi):\n",
    "        val = -1\n",
    "    if t > 0 and t < np.pi:\n",
    "        val = 1\n",
    "    return val"
   ]
  },
  {
   "attachments": {},
   "cell_type": "markdown",
   "metadata": {},
   "source": [
    "Define your square wave and iterate your series up to 50 $(n=50)$."
   ]
  },
  {
   "cell_type": "code",
   "execution_count": null,
   "metadata": {},
   "outputs": [],
   "source": []
  },
  {
   "attachments": {},
   "cell_type": "markdown",
   "metadata": {},
   "source": [
    "Create an array to store the values of your Fourier coefficients $a_{n}\\text{ and }b_{n}$."
   ]
  },
  {
   "cell_type": "code",
   "execution_count": 5,
   "metadata": {},
   "outputs": [
    {
     "data": {
      "text/plain": [
       "[]"
      ]
     },
     "execution_count": 5,
     "metadata": {},
     "output_type": "execute_result"
    }
   ],
   "source": [
    "coeffs = []\n",
    "coeffs"
   ]
  },
  {
   "attachments": {},
   "cell_type": "markdown",
   "metadata": {},
   "source": [
    "Evaluate your Fourier series."
   ]
  },
  {
   "cell_type": "code",
   "execution_count": null,
   "metadata": {},
   "outputs": [],
   "source": []
  },
  {
   "attachments": {},
   "cell_type": "markdown",
   "metadata": {},
   "source": [
    "Plot your square wave function and Fourier series on the same axis. Color your square wave function red and set its linestyle to dashed. Color your Fourier series green. Label your plot as \"Fourier Series for Square Wave\"."
   ]
  },
  {
   "cell_type": "code",
   "execution_count": 6,
   "metadata": {},
   "outputs": [
    {
     "data": {
      "image/png": "[encoded data removed]",
      "text/plain": [
       "<Figure size 640x480 with 1 Axes>"
      ]
     },
     "metadata": {},
     "output_type": "display_data"
    }
   ],
   "source": [
    "# plt.plot(t_vals, evalFs, color='green')\n",
    "# plt.plot(t_vals, [f(val) for val in t_vals], color='red', linestyle=\"--\")\n",
    "plt.title('Fourier Series for Square Wave')\n",
    "plt.show()"
   ]
  },
  {
   "attachments": {},
   "cell_type": "markdown",
   "metadata": {},
   "source": [
    "Extract  the values of your Fourier coefficients $\\mathrm{a}_{n}$ and $\\mathrm{b}_{n}$ and export your them by creating a text file with filename \"Coefficients.txt\". "
   ]
  },
  {
   "cell_type": "code",
   "execution_count": 7,
   "metadata": {},
   "outputs": [],
   "source": [
    "coeffStore = open('Coefficients.txt', 'w')\n",
    "coeffStore.write('an  bn\\n')\n",
    "for coval in coeffs:\n",
    "    coeffStore.write(f'{coval}\\n')\n",
    "    \n",
    "coeffStore.close()"
   ]
  }
 ],
 "metadata": {
  "kernelspec": {
   "display_name": "Python 3",
   "language": "python",
   "name": "python3"
  },
  "language_info": {
   "codemirror_mode": {
    "name": "ipython",
    "version": 3
   },
   "file_extension": ".py",
   "mimetype": "text/x-python",
   "name": "python",
   "nbconvert_exporter": "python",
   "pygments_lexer": "ipython3",
   "version": "3.11.3"
  },
  "orig_nbformat": 4
 },
 "nbformat": 4,
 "nbformat_minor": 2
}
